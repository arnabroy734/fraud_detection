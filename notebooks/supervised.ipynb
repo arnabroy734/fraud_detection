{
 "cells": [
  {
   "cell_type": "code",
   "execution_count": 4,
   "id": "8a8718ff-d1c2-44ed-ab3c-d8dc96f550d3",
   "metadata": {},
   "outputs": [],
   "source": [
    "from imblearn.over_sampling import SMOTE\n",
    "from sklearn.linear_model import LogisticRegression\n",
    "from sklearn.ensemble import RandomForestClassifier\n",
    "from sklearn.tree import DecisionTreeClassifier\n",
    "import pandas as pd\n",
    "import numpy as np\n",
    "from sklearn.model_selection import train_test_split\n",
    "from sklearn.metrics import confusion_matrix\n",
    "from sklearn.metrics import roc_auc_score\n",
    "from sklearn.metrics import f1_score\n",
    "from sklearn.metrics import ConfusionMatrixDisplay, precision_recall_curve\n",
    "import matplotlib.pyplot as plt\n",
    "import torch\n",
    "import torch.nn as nn\n",
    "from torch.utils.data import Dataset, DataLoader\n",
    "import pickle\n",
    "from sklearn.preprocessing import LabelEncoder"
   ]
  },
  {
   "cell_type": "markdown",
   "id": "7df41df4-4428-4368-a97a-6b6f6c57bbbb",
   "metadata": {
    "jp-MarkdownHeadingCollapsed": true
   },
   "source": [
    "## Data Loading and Oversampling"
   ]
  },
  {
   "cell_type": "code",
   "execution_count": 50,
   "id": "974f8e69-d661-4e2e-9449-d326e2ae97ae",
   "metadata": {},
   "outputs": [
    {
     "data": {
      "text/html": [
       "<div>\n",
       "<style scoped>\n",
       "    .dataframe tbody tr th:only-of-type {\n",
       "        vertical-align: middle;\n",
       "    }\n",
       "\n",
       "    .dataframe tbody tr th {\n",
       "        vertical-align: top;\n",
       "    }\n",
       "\n",
       "    .dataframe thead th {\n",
       "        text-align: right;\n",
       "    }\n",
       "</style>\n",
       "<table border=\"1\" class=\"dataframe\">\n",
       "  <thead>\n",
       "    <tr style=\"text-align: right;\">\n",
       "      <th></th>\n",
       "      <th>merchant</th>\n",
       "      <th>category</th>\n",
       "      <th>amt</th>\n",
       "      <th>gender</th>\n",
       "      <th>street</th>\n",
       "      <th>city</th>\n",
       "      <th>zip</th>\n",
       "      <th>city_pop</th>\n",
       "      <th>job</th>\n",
       "      <th>merch_lat</th>\n",
       "      <th>merch_long</th>\n",
       "      <th>hour</th>\n",
       "      <th>age</th>\n",
       "      <th>is_fraud</th>\n",
       "    </tr>\n",
       "  </thead>\n",
       "  <tbody>\n",
       "    <tr>\n",
       "      <th>0</th>\n",
       "      <td>1.519014</td>\n",
       "      <td>1.615782</td>\n",
       "      <td>-0.407826</td>\n",
       "      <td>-0.909206</td>\n",
       "      <td>-0.207491</td>\n",
       "      <td>-0.232599</td>\n",
       "      <td>-0.209999</td>\n",
       "      <td>-0.282589</td>\n",
       "      <td>-0.316898</td>\n",
       "      <td>-0.494354</td>\n",
       "      <td>0.593864</td>\n",
       "      <td>-1.878145</td>\n",
       "      <td>-0.872823</td>\n",
       "      <td>0</td>\n",
       "    </tr>\n",
       "    <tr>\n",
       "      <th>1</th>\n",
       "      <td>0.900957</td>\n",
       "      <td>1.548622</td>\n",
       "      <td>0.230039</td>\n",
       "      <td>-0.909206</td>\n",
       "      <td>-0.207491</td>\n",
       "      <td>-0.232599</td>\n",
       "      <td>-0.209999</td>\n",
       "      <td>-0.293670</td>\n",
       "      <td>-0.281569</td>\n",
       "      <td>2.078699</td>\n",
       "      <td>-2.030341</td>\n",
       "      <td>-1.878145</td>\n",
       "      <td>-0.314203</td>\n",
       "      <td>0</td>\n",
       "    </tr>\n",
       "    <tr>\n",
       "      <th>2</th>\n",
       "      <td>-0.667123</td>\n",
       "      <td>-0.616973</td>\n",
       "      <td>0.934149</td>\n",
       "      <td>1.099861</td>\n",
       "      <td>-0.207491</td>\n",
       "      <td>-0.232599</td>\n",
       "      <td>-0.209999</td>\n",
       "      <td>-0.280406</td>\n",
       "      <td>0.744516</td>\n",
       "      <td>0.902849</td>\n",
       "      <td>-1.592323</td>\n",
       "      <td>-1.878145</td>\n",
       "      <td>0.629736</td>\n",
       "      <td>0</td>\n",
       "    </tr>\n",
       "    <tr>\n",
       "      <th>3</th>\n",
       "      <td>-0.426116</td>\n",
       "      <td>-0.204031</td>\n",
       "      <td>-0.158132</td>\n",
       "      <td>1.099861</td>\n",
       "      <td>1.005067</td>\n",
       "      <td>1.135357</td>\n",
       "      <td>1.018859</td>\n",
       "      <td>-0.287742</td>\n",
       "      <td>0.155359</td>\n",
       "      <td>1.662886</td>\n",
       "      <td>-1.621848</td>\n",
       "      <td>-1.878145</td>\n",
       "      <td>0.343422</td>\n",
       "      <td>0</td>\n",
       "    </tr>\n",
       "    <tr>\n",
       "      <th>4</th>\n",
       "      <td>-0.367463</td>\n",
       "      <td>-0.493928</td>\n",
       "      <td>-0.177094</td>\n",
       "      <td>1.099861</td>\n",
       "      <td>-0.207491</td>\n",
       "      <td>-0.232599</td>\n",
       "      <td>-0.209999</td>\n",
       "      <td>-0.293835</td>\n",
       "      <td>-0.369541</td>\n",
       "      <td>0.026941</td>\n",
       "      <td>0.841909</td>\n",
       "      <td>-1.878145</td>\n",
       "      <td>-0.760752</td>\n",
       "      <td>0</td>\n",
       "    </tr>\n",
       "  </tbody>\n",
       "</table>\n",
       "</div>"
      ],
      "text/plain": [
       "   merchant  category       amt    gender    street      city       zip  \\\n",
       "0  1.519014  1.615782 -0.407826 -0.909206 -0.207491 -0.232599 -0.209999   \n",
       "1  0.900957  1.548622  0.230039 -0.909206 -0.207491 -0.232599 -0.209999   \n",
       "2 -0.667123 -0.616973  0.934149  1.099861 -0.207491 -0.232599 -0.209999   \n",
       "3 -0.426116 -0.204031 -0.158132  1.099861  1.005067  1.135357  1.018859   \n",
       "4 -0.367463 -0.493928 -0.177094  1.099861 -0.207491 -0.232599 -0.209999   \n",
       "\n",
       "   city_pop       job  merch_lat  merch_long      hour       age  is_fraud  \n",
       "0 -0.282589 -0.316898  -0.494354    0.593864 -1.878145 -0.872823         0  \n",
       "1 -0.293670 -0.281569   2.078699   -2.030341 -1.878145 -0.314203         0  \n",
       "2 -0.280406  0.744516   0.902849   -1.592323 -1.878145  0.629736         0  \n",
       "3 -0.287742  0.155359   1.662886   -1.621848 -1.878145  0.343422         0  \n",
       "4 -0.293835 -0.369541   0.026941    0.841909 -1.878145 -0.760752         0  "
      ]
     },
     "execution_count": 50,
     "metadata": {},
     "output_type": "execute_result"
    }
   ],
   "source": [
    "data = pd.read_csv('preprocessed.csv', index_col=0)\n",
    "data.head(5)"
   ]
  },
  {
   "cell_type": "code",
   "execution_count": 51,
   "id": "8f6d4837-b4d1-405d-b77b-ea468a6c0261",
   "metadata": {},
   "outputs": [
    {
     "name": "stdout",
     "output_type": "stream",
     "text": [
      "% of positive in train data: 0.5788434588706052\n",
      "% of positive in test data: 0.5789158438366799\n"
     ]
    }
   ],
   "source": [
    "# Straitified Train-Test split\n",
    "y = data['is_fraud'].values\n",
    "X = data.drop(columns=['is_fraud'], inplace=False).values\n",
    "X_train, X_test, y_train, y_test = train_test_split(X, y, test_size=0.30, \n",
    "                                                    random_state=100, stratify=y)\n",
    "print(f\"% of positive in train data: {y_train[np.where(y_train==1)].shape[0]/y_train.shape[0]*100}\")\n",
    "print(f\"% of positive in test data: {y_test[np.where(y_test==1)].shape[0]/y_test.shape[0]*100}\")\n"
   ]
  },
  {
   "cell_type": "code",
   "execution_count": 52,
   "id": "9368c4c3-de37-4693-aea5-f660996f97a9",
   "metadata": {},
   "outputs": [
    {
     "name": "stdout",
     "output_type": "stream",
     "text": [
      "(1804836, 13) (1804836,)\n",
      "% of positive in train data: 50.0\n"
     ]
    }
   ],
   "source": [
    "# Train Data Oversampling\n",
    "sm = SMOTE(random_state=100)\n",
    "X_train, y_train = sm.fit_resample(X_train, y_train)\n",
    "print(X_train.shape, y_train.shape)\n",
    "print(f\"% of positive in train data: {y_train[np.where(y_train==1)].shape[0]/y_train.shape[0]*100}\")"
   ]
  },
  {
   "cell_type": "markdown",
   "id": "b446e654-968a-4cdc-84d8-94690e0602fc",
   "metadata": {
    "jp-MarkdownHeadingCollapsed": true
   },
   "source": [
    "## LogisticRegression, Decision Tree and RandomForest Experiment (metric used: recall, precision, f1)\n",
    "<table style=\"font-size:20px; border: 1px solid black; border-collapse: collapse;\">\n",
    "    <tr>\n",
    "        <th style=\"text-align: left; border: 1px solid black;\">Metric</th>\n",
    "        <th style=\"border: 1px solid black;\">Logistic Regression</th>\n",
    "        <th style=\"border: 1px solid black;\">Decision Tree</th>\n",
    "        <th style=\"border: 1px solid black;\">Random Forest</th>\n",
    "    </tr>\n",
    "    <tr>\n",
    "        <th style=\"text-align: left; border: 1px solid black;\">f1 score</th>\n",
    "        <td style=\"border: 1px solid black;\">0.109092</td>\n",
    "        <td style=\"border: 1px solid black;\">0.768393</td>\n",
    "        <td style=\"border: 1px solid black;\">0.846276</td>\n",
    "    </tr>\n",
    "    <tr>\n",
    "        <th style=\"text-align: left; border: 1px solid black;\">precision</th>\n",
    "        <td style=\"border: 1px solid black;\">0.058538</td>\n",
    "        <td style=\"border: 1px solid black;\">0.703580</td>\n",
    "        <td style=\"border: 1px solid black;\">0.868630</td>\n",
    "    </tr>\n",
    "    <tr>\n",
    "        <th style=\"text-align: left; border: 1px solid black;\">recall</th>\n",
    "        <td style=\"border: 1px solid black;\">0.799733</td>\n",
    "        <td style=\"border: 1px solid black;\">0.846358</td>\n",
    "        <td style=\"border: 1px solid black;\">0.825044</td>\n",
    "    </tr>\n",
    "</table>"
   ]
  },
  {
   "cell_type": "code",
   "execution_count": 97,
   "id": "42f04ef1-8e1c-408f-84e2-b5968f409331",
   "metadata": {},
   "outputs": [],
   "source": [
    "def ml_model(model_name):\n",
    "    if model_name == 'LR':\n",
    "        model = LogisticRegression(C=1.0)\n",
    "        model.fit(X_train, y_train)\n",
    "    elif model_name == 'DT':\n",
    "        model = DecisionTreeClassifier()\n",
    "        model.fit(X_train, y_train)\n",
    "    elif model_name == 'RF':\n",
    "        model = RandomForestClassifier(n_estimators=50,verbose=2,n_jobs=-1)\n",
    "        model.fit(X_train, y_train)\n",
    "    y_pred_train, y_pred_train_score = model.predict(X_train), model.predict_proba(X_train)[:,1]\n",
    "    y_pred_test, y_pred_test_score = model.predict(X_test), model.predict_proba(X_test)[:,1]\n",
    "    cm_train = confusion_matrix(y_train, y_pred_train)\n",
    "    cm_test = confusion_matrix(y_test, y_pred_test)\n",
    "    f1_train = f1_score(y_train, y_pred_train)\n",
    "    f1_test = f1_score(y_test, y_pred_test)\n",
    "    print(f'''Train f1:  {f1_train}, \n",
    "        recall: {cm_train[1,1]/(cm_train[1,0]+cm_train[1,1])},\n",
    "        precision: {cm_train[1,1]/(cm_train[0,1]+cm_train[1,1])}''')\n",
    "    print(f'''Test f1:  {f1_test}, \n",
    "        recall: {cm_test[1,1]/(cm_test[1,0]+cm_test[1,1])},\n",
    "        precision: {cm_test[1,1]/(cm_test[0,1]+cm_test[1,1])}''')\n",
    "    print(\"Train and Test confusion matrix:\\n\")\n",
    "    for cm in [cm_train, cm_test]:\n",
    "        disp = ConfusionMatrixDisplay(cm)\n",
    "        disp.plot()\n",
    "        plt.show()\n",
    "    return model"
   ]
  },
  {
   "cell_type": "code",
   "execution_count": 13,
   "id": "f55d165d-0aac-415b-8e3d-4637bc08d620",
   "metadata": {
    "scrolled": true
   },
   "outputs": [
    {
     "name": "stdout",
     "output_type": "stream",
     "text": [
      "Train f1:  0.853078826323436, \n",
      "        recall: 0.7996726572386632,\n",
      "        precision: 0.914128964262732\n",
      "Test f1:  0.10909201041855958, \n",
      "        recall: 0.7997335701598579,\n",
      "        precision: 0.058538646557888575\n",
      "Train and Test confusion matrix:\n",
      "\n"
     ]
    },
    {
     "data": {
      "image/png": "[encoded data removed]",
      "text/plain": [
       "<Figure size 640x480 with 2 Axes>"
      ]
     },
     "metadata": {},
     "output_type": "display_data"
    },
    {
     "data": {
      "image/png": "[encoded data removed]",
      "text/plain": [
       "<Figure size 640x480 with 2 Axes>"
      ]
     },
     "metadata": {},
     "output_type": "display_data"
    }
   ],
   "source": [
    "ml_model('LR')"
   ]
  },
  {
   "cell_type": "code",
   "execution_count": 15,
   "id": "773f2e33-336a-4ee9-845a-546d8b8a8368",
   "metadata": {},
   "outputs": [
    {
     "name": "stdout",
     "output_type": "stream",
     "text": [
      "Train f1:  1.0, \n",
      "        recall: 1.0,\n",
      "        precision: 1.0\n",
      "Test f1:  0.7684887459807074, \n",
      "        recall: 0.8490230905861457,\n",
      "        precision: 0.7019089574155654\n",
      "Train and Test confusion matrix:\n",
      "\n"
     ]
    },
    {
     "data": {
      "image/png": "[encoded data removed]",
      "text/plain": [
       "<Figure size 640x480 with 2 Axes>"
      ]
     },
     "metadata": {},
     "output_type": "display_data"
    },
    {
     "data": {
      "image/png": "[encoded data removed]",
      "text/plain": [
       "<Figure size 640x480 with 2 Axes>"
      ]
     },
     "metadata": {},
     "output_type": "display_data"
    }
   ],
   "source": [
    "ml_model('DT')"
   ]
  },
  {
   "cell_type": "code",
   "execution_count": 99,
   "id": "21014240-1025-4e12-812a-2c48cc6d52e7",
   "metadata": {
    "scrolled": true
   },
   "outputs": [
    {
     "name": "stderr",
     "output_type": "stream",
     "text": [
      "[Parallel(n_jobs=-1)]: Using backend ThreadingBackend with 4 concurrent workers.\n"
     ]
    },
    {
     "name": "stdout",
     "output_type": "stream",
     "text": [
      "building tree 1 of 50building tree 2 of 50\n",
      "\n",
      "building tree 3 of 50\n",
      "building tree 4 of 50\n",
      "building tree 5 of 50\n",
      "building tree 6 of 50\n",
      "building tree 7 of 50\n",
      "building tree 8 of 50\n",
      "building tree 9 of 50\n",
      "building tree 10 of 50\n",
      "building tree 11 of 50\n",
      "building tree 12 of 50\n",
      "building tree 13 of 50\n",
      "building tree 14 of 50\n",
      "building tree 15 of 50\n",
      "building tree 16 of 50\n",
      "building tree 17 of 50\n",
      "building tree 18 of 50\n",
      "building tree 19 of 50\n",
      "building tree 20 of 50\n",
      "building tree 21 of 50\n",
      "building tree 22 of 50\n",
      "building tree 23 of 50\n",
      "building tree 24 of 50\n",
      "building tree 25 of 50\n",
      "building tree 26 of 50\n",
      "building tree 27 of 50\n",
      "building tree 28 of 50\n",
      "building tree 29 of 50\n",
      "building tree 30 of 50\n",
      "building tree 31 of 50\n",
      "building tree 32 of 50\n",
      "building tree 33 of 50\n",
      "building tree 34 of 50\n",
      "building tree 35 of 50\n",
      "building tree 36 of 50\n",
      "building tree 37 of 50\n"
     ]
    },
    {
     "name": "stderr",
     "output_type": "stream",
     "text": [
      "[Parallel(n_jobs=-1)]: Done  33 tasks      | elapsed:  1.4min\n"
     ]
    },
    {
     "name": "stdout",
     "output_type": "stream",
     "text": [
      "building tree 38 of 50\n",
      "building tree 39 of 50\n",
      "building tree 40 of 50\n",
      "building tree 41 of 50\n",
      "building tree 42 of 50\n",
      "building tree 43 of 50\n",
      "building tree 44 of 50\n",
      "building tree 45 of 50\n",
      "building tree 46 of 50\n",
      "building tree 47 of 50\n",
      "building tree 48 of 50\n",
      "building tree 49 of 50\n",
      "building tree 50 of 50\n"
     ]
    },
    {
     "name": "stderr",
     "output_type": "stream",
     "text": [
      "[Parallel(n_jobs=-1)]: Done  50 out of  50 | elapsed:  2.0min finished\n",
      "[Parallel(n_jobs=4)]: Using backend ThreadingBackend with 4 concurrent workers.\n",
      "[Parallel(n_jobs=4)]: Done  33 tasks      | elapsed:    1.7s\n",
      "[Parallel(n_jobs=4)]: Done  50 out of  50 | elapsed:    2.4s finished\n",
      "[Parallel(n_jobs=4)]: Using backend ThreadingBackend with 4 concurrent workers.\n",
      "[Parallel(n_jobs=4)]: Done  33 tasks      | elapsed:    1.7s\n",
      "[Parallel(n_jobs=4)]: Done  50 out of  50 | elapsed:    2.5s finished\n",
      "[Parallel(n_jobs=4)]: Using backend ThreadingBackend with 4 concurrent workers.\n",
      "[Parallel(n_jobs=4)]: Done  33 tasks      | elapsed:    0.4s\n",
      "[Parallel(n_jobs=4)]: Done  50 out of  50 | elapsed:    0.5s finished\n",
      "[Parallel(n_jobs=4)]: Using backend ThreadingBackend with 4 concurrent workers.\n",
      "[Parallel(n_jobs=4)]: Done  33 tasks      | elapsed:    0.3s\n",
      "[Parallel(n_jobs=4)]: Done  50 out of  50 | elapsed:    0.5s finished\n"
     ]
    },
    {
     "name": "stdout",
     "output_type": "stream",
     "text": [
      "Train f1:  1.0, \n",
      "        recall: 1.0,\n",
      "        precision: 1.0\n",
      "Test f1:  0.8457168825266985, \n",
      "        recall: 0.8263765541740675,\n",
      "        precision: 0.8659841786877618\n",
      "Train and Test confusion matrix:\n",
      "\n"
     ]
    },
    {
     "data": {
      "image/png": "[encoded data removed]",
      "text/plain": [
       "<Figure size 640x480 with 2 Axes>"
      ]
     },
     "metadata": {},
     "output_type": "display_data"
    },
    {
     "data": {
      "image/png": "[encoded data removed]",
      "text/plain": [
       "<Figure size 640x480 with 2 Axes>"
      ]
     },
     "metadata": {},
     "output_type": "display_data"
    }
   ],
   "source": [
    "rf_model = ml_model('RF')"
   ]
  },
  {
   "cell_type": "markdown",
   "id": "22568539-1c5c-4d58-9418-7f0df19a3e53",
   "metadata": {
    "jp-MarkdownHeadingCollapsed": true
   },
   "source": [
    "## ANN Classsifier With Embedding\n",
    "* <font size=4>***Categorical features are label encoded for embedding. dimension of embedding vector = min(32, $cardinality^{0.5}$)***</font>\n",
    "* <font size=4>***Recall = 0.732, Precision = 0.585 and f1  = 0.650***</font>"
   ]
  },
  {
   "cell_type": "code",
   "execution_count": null,
   "id": "651147cb-f352-4e75-a119-9b22170ee63a",
   "metadata": {},
   "outputs": [],
   "source": []
  },
  {
   "cell_type": "markdown",
   "id": "a8aaa272-ac82-476c-a3f4-0acbcdf21345",
   "metadata": {
    "jp-MarkdownHeadingCollapsed": true
   },
   "source": [
    "### Loading Data"
   ]
  },
  {
   "cell_type": "code",
   "execution_count": 10,
   "id": "29a32919-6c0b-4015-82dc-1382483b0c4d",
   "metadata": {
    "scrolled": true
   },
   "outputs": [
    {
     "name": "stdout",
     "output_type": "stream",
     "text": [
      "{'merchant': 27, 'street': 32, 'category': 4, 'city': 30, 'job': 23, 'zip': 32, 'gender': 2, 'hour': 5}\n",
      "{'merchant': 693, 'street': 983, 'category': 14, 'city': 894, 'job': 494, 'zip': 970, 'gender': 2, 'hour': 24}\n"
     ]
    }
   ],
   "source": [
    "data = pd.read_csv('preprocessed_dl.csv', index_col=0)\n",
    "with open('embedding_dim.pkl', 'rb') as f:\n",
    "    embedding_dim_map = pickle.load(f)\n",
    "    f.close()\n",
    "with open('cardinality.pkl', 'rb') as f:\n",
    "    cardinality_map = pickle.load(f)\n",
    "    f.close()\n",
    "print(embedding_dim_map)\n",
    "print(cardinality_map)"
   ]
  },
  {
   "cell_type": "code",
   "execution_count": 14,
   "id": "4eef7b9c-4c99-4333-874d-c777f73974bb",
   "metadata": {},
   "outputs": [
    {
     "name": "stdout",
     "output_type": "stream",
     "text": [
      "['amt', 'city_pop', 'merch_lat', 'merch_long', 'age']\n"
     ]
    }
   ],
   "source": [
    "cat_features = embedding_dim_map.keys()\n",
    "num_features = list()\n",
    "for f in data.columns:\n",
    "    if f not in cat_features and f != 'is_fraud':\n",
    "        num_features.append(f)\n",
    "print(num_features)"
   ]
  },
  {
   "cell_type": "code",
   "execution_count": 16,
   "id": "e55cbe11-bb9b-4b59-9018-b6eb2ed8afc8",
   "metadata": {},
   "outputs": [
    {
     "name": "stdout",
     "output_type": "stream",
     "text": [
      "% of positive in train data: 0.5788434588706052\n",
      "% of positive in test data: 0.5789158438366799\n"
     ]
    }
   ],
   "source": [
    "X = data.drop(columns=['is_fraud'])\n",
    "y = data['is_fraud']\n",
    "X_train, X_test, y_train, y_test = train_test_split(X, y, test_size=0.30, \n",
    "                                                    random_state=100, stratify=y)\n",
    "print(f\"% of positive in train data: {y_train[data['is_fraud']==1].shape[0]/y_train.shape[0]*100}\")\n",
    "print(f\"% of positive in test data: {y_test[data['is_fraud']==1].shape[0]/y_test.shape[0]*100}\")"
   ]
  },
  {
   "cell_type": "code",
   "execution_count": 17,
   "id": "865d1a3d-c75d-407f-9522-34db14e0066f",
   "metadata": {},
   "outputs": [
    {
     "name": "stdout",
     "output_type": "stream",
     "text": [
      "(1804836, 13) (1804836,)\n",
      "% of positive in train data: 50.0\n"
     ]
    }
   ],
   "source": [
    "# Train Data Oversampling\n",
    "sm = SMOTE(random_state=100)\n",
    "X_train, y_train = sm.fit_resample(X_train, y_train)\n",
    "print(X_train.shape, y_train.shape)\n",
    "print(f\"% of positive in train data: {y_train[y_train==1].shape[0]/y_train.shape[0]*100}\")"
   ]
  },
  {
   "cell_type": "code",
   "execution_count": 40,
   "id": "14f3cf99-440e-4d5f-bf39-49ca86a58668",
   "metadata": {},
   "outputs": [
    {
     "name": "stdout",
     "output_type": "stream",
     "text": [
      "[27, 32, 4, 30, 23, 32, 2, 5] [693, 983, 14, 894, 494, 970, 2, 24]\n"
     ]
    }
   ],
   "source": [
    "embedding_dims = list()\n",
    "cardinality = list()\n",
    "for f in cat_features:\n",
    "    embedding_dims.append(embedding_dim_map[f])\n",
    "    cardinality.append(cardinality_map[f])\n",
    "print(embedding_dims, cardinality)"
   ]
  },
  {
   "cell_type": "markdown",
   "id": "7b01b528-49a3-4da6-92d1-06e9e53a42da",
   "metadata": {
    "jp-MarkdownHeadingCollapsed": true
   },
   "source": [
    "### Model Building"
   ]
  },
  {
   "cell_type": "code",
   "execution_count": 6,
   "id": "a6bff4b7-10ac-4cb4-b08e-63232e7c5676",
   "metadata": {},
   "outputs": [],
   "source": [
    "class CustomDataset(Dataset):\n",
    "    def __init__(self, X_train, y_train, cat_features, num_features):\n",
    "        self.X_cat = torch.tensor(X_train[cat_features].values).type(torch.long)\n",
    "        self.X_num = torch.tensor(X_train[num_features].values).type(torch.float32)\n",
    "        self.y = torch.tensor(y_train.values.reshape((-1,1))).type(torch.float32)\n",
    "        self.n_samples = self.X_cat.shape[0]\n",
    "    def __len__(self):\n",
    "        # lenght of the data\n",
    "        return self.n_samples\n",
    "    def __getitem__(self, index):\n",
    "        return (self.X_cat[index],self.X_num[index],self.y[index])\n",
    "    \n",
    "\n",
    "class ANNClassifier(nn.Module):\n",
    "    def __init__(self, embedding_dims, cardinality, no_num_features):\n",
    "        super(ANNClassifier, self).__init__()\n",
    "        input_size = sum(embedding_dims) + no_num_features # input size\n",
    "        self.embeddings = nn.ModuleList( # embedding layers\n",
    "            [nn.Embedding(cardinality[i], embedding_dims[i]) for i in range(len(cardinality))]\n",
    "        )\n",
    "        self.no_cat_features = len(cardinality)\n",
    "        self.l1 = nn.Linear(input_size,64) # 64 units\n",
    "        self.l1_ac = nn.ReLU()\n",
    "        self.l2 = nn.Linear(64, 32) # 32 Units\n",
    "        self.l2_ac = nn.ReLU()\n",
    "        self.l3 = nn.Linear(32, 1) # \n",
    "        self.l3_ac = nn.Sigmoid()\n",
    "        \n",
    "        \n",
    "    def forward(self, x_cat, x_num):\n",
    "        # calculate embedding, concatenate with numerical features\n",
    "        embeddings = [self.embeddings[i](x_cat[:,i]) for i in range(self.no_cat_features)]\n",
    "        embeddings = torch.cat(embeddings, dim=1)\n",
    "        x = torch.cat((embeddings, x_num), dim=1)\n",
    "        # forward pass\n",
    "        out = self.l1(x)\n",
    "        out = self.l1_ac(out)\n",
    "        out = self.l2(out)\n",
    "        out = self.l2_ac(out)\n",
    "        out = self.l3(out)\n",
    "        out = self.l3_ac(out)\n",
    "        \n",
    "        return out\n",
    "    \n",
    "    \n",
    "def fit(X_train,y_train):\n",
    "    device_gpu = torch.device('cuda:0' if torch.cuda.is_available() else 'cpu')\n",
    "    batch_size = 1024\n",
    "    input_size = X_train.shape[1]\n",
    "    lr = 0.01\n",
    "    model = ANNClassifier(embedding_dims,cardinality,len(num_features))\n",
    "    model.to(device_gpu)\n",
    "    loss_fn = nn.BCELoss()\n",
    "    # optimizer = torch.optim.SGD(model.parameters(),lr = lr)\n",
    "    optimizer = torch.optim.Adam(model.parameters(), lr = lr)\n",
    "    epochs = 3\n",
    "    # get the data loader\n",
    "    dataset = CustomDataset(X_train, y_train, cat_features, num_features)\n",
    "    dataloader = DataLoader(dataset, batch_size=batch_size, shuffle=True)\n",
    "    total_steps = len(dataloader)\n",
    "    for i in range(epochs):\n",
    "        for j, (X_cat, X_num, y) in enumerate(dataloader):\n",
    "            # forward pass\n",
    "            X_cat = X_cat.to(device_gpu)\n",
    "            X_num = X_num.to(device_gpu)\n",
    "            y = y.to(device_gpu)\n",
    "            outputs = model(X_cat, X_num)\n",
    "            loss = loss_fn(outputs, y)\n",
    "            # Backward\n",
    "            optimizer.zero_grad()\n",
    "            loss.backward()\n",
    "            optimizer.step()\n",
    "\n",
    "            if (j+1)%100 == 0:\n",
    "                print(f\"At epoch {i+1}, step {j}/{total_steps}, loss = {loss.item():0.3f}\")\n",
    "    return model"
   ]
  },
  {
   "cell_type": "markdown",
   "id": "dba659f5-2960-4d25-baf4-51529acd32f0",
   "metadata": {
    "jp-MarkdownHeadingCollapsed": true
   },
   "source": [
    "### Model Architecture"
   ]
  },
  {
   "cell_type": "code",
   "execution_count": 33,
   "id": "ea918dda-baa7-401c-92c6-862c8c38fcd5",
   "metadata": {},
   "outputs": [
    {
     "name": "stdout",
     "output_type": "stream",
     "text": [
      "ANNClassifier(\n",
      "  (embeddings): ModuleList(\n",
      "    (0): Embedding(693, 27)\n",
      "    (1): Embedding(983, 32)\n",
      "    (2): Embedding(14, 4)\n",
      "    (3): Embedding(894, 30)\n",
      "    (4): Embedding(494, 23)\n",
      "    (5): Embedding(970, 32)\n",
      "    (6): Embedding(2, 2)\n",
      "    (7): Embedding(24, 5)\n",
      "  )\n",
      "  (l1): Linear(in_features=160, out_features=64, bias=True)\n",
      "  (l1_ac): ReLU()\n",
      "  (l2): Linear(in_features=64, out_features=32, bias=True)\n",
      "  (l2_ac): ReLU()\n",
      "  (l3): Linear(in_features=32, out_features=1, bias=True)\n",
      "  (l3_ac): Sigmoid()\n",
      ")\n"
     ]
    }
   ],
   "source": [
    "model = ANNClassifier(embedding_dims, cardinality, len(num_features))\n",
    "print(model)"
   ]
  },
  {
   "cell_type": "markdown",
   "id": "8d839272-c14a-4345-9446-3e5fe26428d3",
   "metadata": {
    "jp-MarkdownHeadingCollapsed": true
   },
   "source": [
    "### Model Training"
   ]
  },
  {
   "cell_type": "code",
   "execution_count": 36,
   "id": "f03064bb-7de3-4ec7-8d56-10190d50f1f2",
   "metadata": {
    "scrolled": true
   },
   "outputs": [
    {
     "name": "stdout",
     "output_type": "stream",
     "text": [
      "At epoch 1, step 99/1763, loss = 0.203\n",
      "At epoch 1, step 199/1763, loss = 0.150\n",
      "At epoch 1, step 299/1763, loss = 0.123\n",
      "At epoch 1, step 399/1763, loss = 0.068\n",
      "At epoch 1, step 499/1763, loss = 0.057\n",
      "At epoch 1, step 599/1763, loss = 0.055\n",
      "At epoch 1, step 699/1763, loss = 0.030\n",
      "At epoch 1, step 799/1763, loss = 0.042\n",
      "At epoch 1, step 899/1763, loss = 0.046\n",
      "At epoch 1, step 999/1763, loss = 0.024\n",
      "At epoch 1, step 1099/1763, loss = 0.031\n",
      "At epoch 1, step 1199/1763, loss = 0.031\n",
      "At epoch 1, step 1299/1763, loss = 0.035\n",
      "At epoch 1, step 1399/1763, loss = 0.027\n",
      "At epoch 1, step 1499/1763, loss = 0.037\n",
      "At epoch 1, step 1599/1763, loss = 0.022\n",
      "At epoch 1, step 1699/1763, loss = 0.033\n",
      "At epoch 2, step 99/1763, loss = 0.015\n",
      "At epoch 2, step 199/1763, loss = 0.030\n",
      "At epoch 2, step 299/1763, loss = 0.021\n",
      "At epoch 2, step 399/1763, loss = 0.020\n",
      "At epoch 2, step 499/1763, loss = 0.022\n",
      "At epoch 2, step 599/1763, loss = 0.033\n",
      "At epoch 2, step 699/1763, loss = 0.023\n",
      "At epoch 2, step 799/1763, loss = 0.043\n",
      "At epoch 2, step 899/1763, loss = 0.026\n",
      "At epoch 2, step 999/1763, loss = 0.025\n",
      "At epoch 2, step 1099/1763, loss = 0.015\n",
      "At epoch 2, step 1199/1763, loss = 0.024\n",
      "At epoch 2, step 1299/1763, loss = 0.022\n",
      "At epoch 2, step 1399/1763, loss = 0.016\n",
      "At epoch 2, step 1499/1763, loss = 0.018\n",
      "At epoch 2, step 1599/1763, loss = 0.018\n",
      "At epoch 2, step 1699/1763, loss = 0.014\n",
      "At epoch 3, step 99/1763, loss = 0.017\n",
      "At epoch 3, step 199/1763, loss = 0.013\n",
      "At epoch 3, step 299/1763, loss = 0.010\n",
      "At epoch 3, step 399/1763, loss = 0.029\n",
      "At epoch 3, step 499/1763, loss = 0.012\n",
      "At epoch 3, step 599/1763, loss = 0.012\n",
      "At epoch 3, step 699/1763, loss = 0.018\n",
      "At epoch 3, step 799/1763, loss = 0.029\n",
      "At epoch 3, step 899/1763, loss = 0.032\n",
      "At epoch 3, step 999/1763, loss = 0.022\n",
      "At epoch 3, step 1099/1763, loss = 0.016\n",
      "At epoch 3, step 1199/1763, loss = 0.015\n",
      "At epoch 3, step 1299/1763, loss = 0.009\n",
      "At epoch 3, step 1399/1763, loss = 0.028\n",
      "At epoch 3, step 1499/1763, loss = 0.009\n",
      "At epoch 3, step 1599/1763, loss = 0.019\n",
      "At epoch 3, step 1699/1763, loss = 0.010\n"
     ]
    }
   ],
   "source": [
    "model = fit(X_train, y_train)"
   ]
  },
  {
   "cell_type": "markdown",
   "id": "341d384f-4f34-4ed4-b2a7-6078031fc727",
   "metadata": {
    "jp-MarkdownHeadingCollapsed": true
   },
   "source": [
    "### Performance on Test Data"
   ]
  },
  {
   "cell_type": "code",
   "execution_count": 42,
   "id": "5187ae9e-7282-45c3-89e9-21dd74123d6c",
   "metadata": {},
   "outputs": [
    {
     "name": "stdout",
     "output_type": "stream",
     "text": [
      "Test f1:  0.650374458021285, \n",
      "        recall: 0.7326820603907638,\n",
      "        precision: 0.5846917080085046\n"
     ]
    }
   ],
   "source": [
    "y_pred = model(torch.tensor(X_test[cat_features].values).type(torch.long).to('cuda')\n",
    "               , torch.tensor(X_test[num_features].values).type(torch.float32).to('cuda'))\n",
    "y_pred = y_pred.cpu().detach().numpy()\n",
    "pred_fn = lambda x: 1 if x >= 0.5 else 0\n",
    "pred_fn = np.vectorize(pred_fn)\n",
    "y_pred_labels = pred_fn(y_pred)\n",
    "cm_test = confusion_matrix(y_test, y_pred_labels.ravel())\n",
    "f1_test = f1_score(y_test, y_pred_labels)\n",
    "print(f'''Test f1:  {f1_test}, \n",
    "        recall: {cm_test[1,1]/(cm_test[1,0]+cm_test[1,1])},\n",
    "        precision: {cm_test[1,1]/(cm_test[0,1]+cm_test[1,1])}''')"
   ]
  },
  {
   "cell_type": "code",
   "execution_count": 44,
   "id": "39cacb08-3ec8-48ff-b83b-26c45a77c14f",
   "metadata": {},
   "outputs": [
    {
     "data": {
      "text/plain": [
       "array([[385579,   1172],\n",
       "       [   602,   1650]])"
      ]
     },
     "execution_count": 44,
     "metadata": {},
     "output_type": "execute_result"
    }
   ],
   "source": [
    "cm_test"
   ]
  },
  {
   "cell_type": "markdown",
   "id": "748d59e2-2c3e-4e21-9c04-8c58e5c65d89",
   "metadata": {
    "jp-MarkdownHeadingCollapsed": true
   },
   "source": [
    "## ANN Classifier With Engineered Feature\n",
    "* <font size=4>***Preprocessed data used to train ML model is used here to train ANN model***</font>\n",
    "* <font size=4>***Recall=0.914, precision=0.212, f1 score=0.344***</font>\n",
    "* <font size=4>***ANN based classifier suffers from lot of false positives, though rate of false negatives is low***</font>"
   ]
  },
  {
   "cell_type": "markdown",
   "id": "6a41f1e5-47ea-4124-86f3-8c9e4508cc77",
   "metadata": {
    "jp-MarkdownHeadingCollapsed": true
   },
   "source": [
    "### Model Building"
   ]
  },
  {
   "cell_type": "code",
   "execution_count": 78,
   "id": "15cf4124-5e82-4b8e-9082-4e580f2e7cae",
   "metadata": {},
   "outputs": [],
   "source": [
    "class CustomDataset(Dataset):\n",
    "    def __init__(self, X_train, y_train):\n",
    "        self.X = torch.tensor(X_train).type(torch.float32)\n",
    "        self.y = torch.tensor(y_train.reshape((-1,1))).type(torch.float32)\n",
    "        self.n_samples = self.X.shape[0]\n",
    "    def __len__(self):\n",
    "        # lenght of the data\n",
    "        return self.n_samples \n",
    "    def __getitem__(self, index):\n",
    "        return (self.X[index],self.y[index])\n",
    "\n",
    "class ANNClassifier2(nn.Module):\n",
    "    def __init__(self, input_size):\n",
    "        super(ANNClassifier2, self).__init__()\n",
    "        self.l1 = nn.Linear(input_size,64) # 64 units\n",
    "        self.l1_ac = nn.ReLU()\n",
    "        self.l2 = nn.Linear(64, 32) # 32 Units\n",
    "        self.l2_ac = nn.ReLU()\n",
    "        self.l3 = nn.Linear(32, 1) \n",
    "        self.l3_ac = nn.Sigmoid()\n",
    "        \n",
    "    def forward(self, x):\n",
    "        out = self.l1(x)\n",
    "        out = self.l1_ac(out)\n",
    "        out = self.l2(out)\n",
    "        out = self.l2_ac(out)\n",
    "        out = self.l3(out)\n",
    "        out = self.l3_ac(out)\n",
    "        \n",
    "        return out\n",
    "    \n",
    "    \n",
    "def fit(X_train,y_train):\n",
    "    device_gpu = torch.device('cuda:0' if torch.cuda.is_available() else 'cpu')\n",
    "    # device_cpu = torch.device('cpu')\n",
    "    batch_size = 2000\n",
    "    input_size = X_train.shape[1]\n",
    "    lr = 0.01\n",
    "    # hidden_size = 200\n",
    "    # classes = 10\n",
    "    # print(device_gpu)\n",
    "    model = ANNClassifier2(input_size)\n",
    "    model.to(device_gpu)\n",
    "    loss_fn = nn.BCELoss()\n",
    "    # loss_fn = WeightedLoss()\n",
    "    # optimizer = torch.optim.SGD(model.parameters(),lr = lr)\n",
    "    optimizer = torch.optim.Adam(model.parameters(), lr = lr)\n",
    "    epochs = 10\n",
    "    # get the data loader\n",
    "    dataset = CustomDataset(X_train, y_train)\n",
    "    dataloader = DataLoader(dataset, batch_size=batch_size, shuffle=True)\n",
    "    total_steps = len(dataloader)\n",
    "    for i in range(epochs):\n",
    "        for j, (X, y) in enumerate(dataloader):\n",
    "            # forward pass\n",
    "            X = X.to(device_gpu)\n",
    "            y = y.to(device_gpu)\n",
    "            outputs = model(X)\n",
    "            loss = loss_fn(outputs, y)\n",
    "            \n",
    "            # Backward\n",
    "            optimizer.zero_grad()\n",
    "            loss.backward()\n",
    "            optimizer.step()\n",
    "\n",
    "            if (j+1)%100 == 0:\n",
    "                print(f\"At epoch {i+1}, step {j}/{total_steps}, loss = {loss.item():0.3f}\")\n",
    "    return model"
   ]
  },
  {
   "cell_type": "markdown",
   "id": "dab82069-266a-427e-ade5-0e23c55f8bc8",
   "metadata": {
    "jp-MarkdownHeadingCollapsed": true
   },
   "source": [
    "### Model Architecture"
   ]
  },
  {
   "cell_type": "code",
   "execution_count": 60,
   "id": "95795c60-e33e-486c-8d67-7497a41ee22c",
   "metadata": {},
   "outputs": [
    {
     "name": "stdout",
     "output_type": "stream",
     "text": [
      "ANNClassifier2(\n",
      "  (l1): Linear(in_features=13, out_features=64, bias=True)\n",
      "  (l1_ac): ReLU()\n",
      "  (l2): Linear(in_features=64, out_features=32, bias=True)\n",
      "  (l2_ac): ReLU()\n",
      "  (l3): Linear(in_features=32, out_features=1, bias=True)\n",
      "  (l3_ac): Sigmoid()\n",
      ")\n"
     ]
    }
   ],
   "source": [
    "model = ANNClassifier2(13)\n",
    "print(model)"
   ]
  },
  {
   "cell_type": "markdown",
   "id": "d4ab10f4-91e5-49f7-b822-5338e31fe756",
   "metadata": {
    "jp-MarkdownHeadingCollapsed": true
   },
   "source": [
    "### Model Training"
   ]
  },
  {
   "cell_type": "code",
   "execution_count": 80,
   "id": "f5bd612c-a868-45ea-a174-8dd62345900f",
   "metadata": {
    "scrolled": true
   },
   "outputs": [
    {
     "name": "stdout",
     "output_type": "stream",
     "text": [
      "At epoch 1, step 99/903, loss = 0.176\n",
      "At epoch 1, step 199/903, loss = 0.132\n",
      "At epoch 1, step 299/903, loss = 0.110\n",
      "At epoch 1, step 399/903, loss = 0.095\n",
      "At epoch 1, step 499/903, loss = 0.102\n",
      "At epoch 1, step 599/903, loss = 0.093\n",
      "At epoch 1, step 699/903, loss = 0.097\n",
      "At epoch 1, step 799/903, loss = 0.102\n",
      "At epoch 1, step 899/903, loss = 0.114\n",
      "At epoch 2, step 99/903, loss = 0.087\n",
      "At epoch 2, step 199/903, loss = 0.089\n",
      "At epoch 2, step 299/903, loss = 0.102\n",
      "At epoch 2, step 399/903, loss = 0.080\n",
      "At epoch 2, step 499/903, loss = 0.079\n",
      "At epoch 2, step 599/903, loss = 0.095\n",
      "At epoch 2, step 699/903, loss = 0.078\n",
      "At epoch 2, step 799/903, loss = 0.076\n",
      "At epoch 2, step 899/903, loss = 0.066\n",
      "At epoch 3, step 99/903, loss = 0.070\n",
      "At epoch 3, step 199/903, loss = 0.059\n",
      "At epoch 3, step 299/903, loss = 0.063\n",
      "At epoch 3, step 399/903, loss = 0.057\n",
      "At epoch 3, step 499/903, loss = 0.060\n",
      "At epoch 3, step 599/903, loss = 0.074\n",
      "At epoch 3, step 699/903, loss = 0.058\n",
      "At epoch 3, step 799/903, loss = 0.073\n",
      "At epoch 3, step 899/903, loss = 0.056\n",
      "At epoch 4, step 99/903, loss = 0.061\n",
      "At epoch 4, step 199/903, loss = 0.062\n",
      "At epoch 4, step 299/903, loss = 0.062\n",
      "At epoch 4, step 399/903, loss = 0.064\n",
      "At epoch 4, step 499/903, loss = 0.060\n",
      "At epoch 4, step 599/903, loss = 0.056\n",
      "At epoch 4, step 699/903, loss = 0.070\n",
      "At epoch 4, step 799/903, loss = 0.048\n",
      "At epoch 4, step 899/903, loss = 0.058\n",
      "At epoch 5, step 99/903, loss = 0.051\n",
      "At epoch 5, step 199/903, loss = 0.058\n",
      "At epoch 5, step 299/903, loss = 0.065\n",
      "At epoch 5, step 399/903, loss = 0.050\n",
      "At epoch 5, step 499/903, loss = 0.058\n",
      "At epoch 5, step 599/903, loss = 0.060\n",
      "At epoch 5, step 699/903, loss = 0.053\n",
      "At epoch 5, step 799/903, loss = 0.052\n",
      "At epoch 5, step 899/903, loss = 0.042\n",
      "At epoch 6, step 99/903, loss = 0.084\n",
      "At epoch 6, step 199/903, loss = 0.049\n",
      "At epoch 6, step 299/903, loss = 0.052\n",
      "At epoch 6, step 399/903, loss = 0.041\n",
      "At epoch 6, step 499/903, loss = 0.049\n",
      "At epoch 6, step 599/903, loss = 0.051\n",
      "At epoch 6, step 699/903, loss = 0.053\n",
      "At epoch 6, step 799/903, loss = 0.049\n",
      "At epoch 6, step 899/903, loss = 0.049\n",
      "At epoch 7, step 99/903, loss = 0.048\n",
      "At epoch 7, step 199/903, loss = 0.066\n",
      "At epoch 7, step 299/903, loss = 0.043\n",
      "At epoch 7, step 399/903, loss = 0.063\n",
      "At epoch 7, step 499/903, loss = 0.047\n",
      "At epoch 7, step 599/903, loss = 0.055\n",
      "At epoch 7, step 699/903, loss = 0.050\n",
      "At epoch 7, step 799/903, loss = 0.056\n",
      "At epoch 7, step 899/903, loss = 0.069\n",
      "At epoch 8, step 99/903, loss = 0.049\n",
      "At epoch 8, step 199/903, loss = 0.047\n",
      "At epoch 8, step 299/903, loss = 0.050\n",
      "At epoch 8, step 399/903, loss = 0.056\n",
      "At epoch 8, step 499/903, loss = 0.043\n",
      "At epoch 8, step 599/903, loss = 0.060\n",
      "At epoch 8, step 699/903, loss = 0.047\n",
      "At epoch 8, step 799/903, loss = 0.059\n",
      "At epoch 8, step 899/903, loss = 0.048\n",
      "At epoch 9, step 99/903, loss = 0.037\n",
      "At epoch 9, step 199/903, loss = 0.037\n",
      "At epoch 9, step 299/903, loss = 0.054\n",
      "At epoch 9, step 399/903, loss = 0.044\n",
      "At epoch 9, step 499/903, loss = 0.036\n",
      "At epoch 9, step 599/903, loss = 0.041\n",
      "At epoch 9, step 699/903, loss = 0.041\n",
      "At epoch 9, step 799/903, loss = 0.053\n",
      "At epoch 9, step 899/903, loss = 0.044\n",
      "At epoch 10, step 99/903, loss = 0.046\n",
      "At epoch 10, step 199/903, loss = 0.048\n",
      "At epoch 10, step 299/903, loss = 0.050\n",
      "At epoch 10, step 399/903, loss = 0.035\n",
      "At epoch 10, step 499/903, loss = 0.036\n",
      "At epoch 10, step 599/903, loss = 0.051\n",
      "At epoch 10, step 699/903, loss = 0.050\n",
      "At epoch 10, step 799/903, loss = 0.039\n",
      "At epoch 10, step 899/903, loss = 0.043\n"
     ]
    }
   ],
   "source": [
    "ann_model2 = fit(X_train, y_train)"
   ]
  },
  {
   "cell_type": "markdown",
   "id": "8ddecdb0-e238-486a-8a19-3848e8747e8d",
   "metadata": {
    "jp-MarkdownHeadingCollapsed": true
   },
   "source": [
    "### Performnace with test data"
   ]
  },
  {
   "cell_type": "code",
   "execution_count": 88,
   "id": "c31cf2ee-290b-452f-bca9-03e07c28a038",
   "metadata": {},
   "outputs": [],
   "source": [
    "def performance(X, y):\n",
    "    y_pred = ann_model2(torch.tensor(X).type(torch.float32).to('cuda'))\n",
    "    y_pred = y_pred.cpu().detach().numpy()\n",
    "    pred_fn = lambda x: 1 if x >= 0.5 else 0\n",
    "    pred_fn = np.vectorize(pred_fn)\n",
    "    y_pred_labels = pred_fn(y_pred)\n",
    "    cm_test = confusion_matrix(y, y_pred_labels.ravel())\n",
    "    f1_test = f1_score(y, y_pred_labels)\n",
    "    print(f'''Test f1:  {f1_test}, \n",
    "        recall: {cm_test[1,1]/(cm_test[1,0]+cm_test[1,1])},\n",
    "        precision: {cm_test[1,1]/(cm_test[1,1]+cm_test[0,1])}''')\n",
    "    print(cm_test)"
   ]
  },
  {
   "cell_type": "code",
   "execution_count": 90,
   "id": "d4f8507c-0aee-4d76-a3a9-703ff225389c",
   "metadata": {},
   "outputs": [
    {
     "name": "stdout",
     "output_type": "stream",
     "text": [
      "Test f1:  0.3445160210825734, \n",
      "        recall: 0.9142984014209592,\n",
      "        precision: 0.21224616018967116\n",
      "[[379109   7642]\n",
      " [   193   2059]]\n"
     ]
    }
   ],
   "source": [
    "performance(X_test, y_test)"
   ]
  },
  {
   "cell_type": "markdown",
   "id": "1f1fafcf-9a84-4b69-b99a-018cc6006f58",
   "metadata": {
    "jp-MarkdownHeadingCollapsed": true
   },
   "source": [
    "## Combine RF with ANN2\n",
    "* <font size=4>***Here we combine outputs of RF and ANN. If recall is important then weightage of ANN will be higher, if precision is important weightage of RF will be higher***</font>\n",
    "* <font size=4>***Result of equal weightage: recall=0.895, precision=0.478, f1=0.623***</font>"
   ]
  },
  {
   "cell_type": "code",
   "execution_count": 103,
   "id": "9e94c6d0-441c-438f-9e6c-dc8cce9e73f0",
   "metadata": {},
   "outputs": [
    {
     "name": "stderr",
     "output_type": "stream",
     "text": [
      "[Parallel(n_jobs=4)]: Using backend ThreadingBackend with 4 concurrent workers.\n",
      "[Parallel(n_jobs=4)]: Done  33 tasks      | elapsed:    0.4s\n",
      "[Parallel(n_jobs=4)]: Done  50 out of  50 | elapsed:    0.5s finished\n"
     ]
    },
    {
     "name": "stdout",
     "output_type": "stream",
     "text": [
      "(389003,)\n",
      "(389003,)\n"
     ]
    }
   ],
   "source": [
    "rf_pred = rf_model.predict_proba(X_test)[:,1]\n",
    "ann_pred = ann_model2.to('cpu')(torch.tensor(X_test).type(torch.float32)).detach().numpy().flatten()\n",
    "print(rf_pred.shape)\n",
    "print(ann_pred.shape)"
   ]
  },
  {
   "cell_type": "code",
   "execution_count": 105,
   "id": "4e327747-fa6f-442d-b317-c5cd9739bbae",
   "metadata": {},
   "outputs": [],
   "source": [
    "y_test_score = 0.5*rf_pred + 0.5*ann_pred\n",
    "rule = np.vectorize(lambda x: 1 if x>= 0.5 else 0)\n",
    "y_test_pred = rule(y_test_score)"
   ]
  },
  {
   "cell_type": "code",
   "execution_count": 109,
   "id": "09516ecf-c32a-43d6-ba42-636c0d61b527",
   "metadata": {},
   "outputs": [
    {
     "name": "stdout",
     "output_type": "stream",
     "text": [
      "Test f1:  0.6234730168548013, \n",
      "    recall: 0.8952042628774423,\n",
      "    precision: 0.4782918149466192\n",
      "[[384552   2199]\n",
      " [   236   2016]]\n"
     ]
    }
   ],
   "source": [
    "cm_test = confusion_matrix(y_test, y_test_pred)\n",
    "f1_test = f1_score(y_test, y_test_pred)\n",
    "print(f'''Test f1:  {f1_test}, \n",
    "    recall: {cm_test[1,1]/(cm_test[1,0]+cm_test[1,1])},\n",
    "    precision: {(cm_test[1,1])/(cm_test[0,1]+cm_test[1,1])}''')\n",
    "print(cm_test)"
   ]
  },
  {
   "cell_type": "code",
   "execution_count": null,
   "id": "7222368d-4cf6-4e17-8876-0ade40cff7ec",
   "metadata": {},
   "outputs": [],
   "source": []
  },
  {
   "cell_type": "code",
   "execution_count": null,
   "id": "8cde7088-9531-48c1-bc94-3066cf104908",
   "metadata": {},
   "outputs": [],
   "source": []
  },
  {
   "cell_type": "code",
   "execution_count": null,
   "id": "6c62cee2-c05f-4750-8783-17f613ebced6",
   "metadata": {},
   "outputs": [],
   "source": []
  },
  {
   "cell_type": "code",
   "execution_count": null,
   "id": "0b87d2aa-3f20-471b-92af-f2831a76c327",
   "metadata": {},
   "outputs": [],
   "source": []
  },
  {
   "cell_type": "code",
   "execution_count": null,
   "id": "f5323aa3-97b2-42d6-a878-eddea7642331",
   "metadata": {},
   "outputs": [],
   "source": []
  },
  {
   "cell_type": "code",
   "execution_count": null,
   "id": "db2f14c5-7138-4433-b723-12ae2d266627",
   "metadata": {},
   "outputs": [],
   "source": []
  }
 ],
 "metadata": {
  "kernelspec": {
   "display_name": "Python [conda env:base] *",
   "language": "python",
   "name": "conda-base-py"
  },
  "language_info": {
   "codemirror_mode": {
    "name": "ipython",
    "version": 3
   },
   "file_extension": ".py",
   "mimetype": "text/x-python",
   "name": "python",
   "nbconvert_exporter": "python",
   "pygments_lexer": "ipython3",
   "version": "3.12.7"
  }
 },
 "nbformat": 4,
 "nbformat_minor": 5
}
