{
 "cells": [
  {
   "cell_type": "code",
   "execution_count": 20,
   "id": "c148fa69-3105-4f23-b37b-bacef7598f41",
   "metadata": {},
   "outputs": [],
   "source": [
    "import pandas as pd\n",
    "from sklearn.decomposition import PCA\n",
    "import pandas as pd\n",
    "import numpy as np\n",
    "import matplotlib.pyplot as plt\n",
    "import seaborn as sns\n",
    "from sklearn.linear_model import LogisticRegression\n",
    "from sklearn.metrics import confusion_matrix"
   ]
  },
  {
   "cell_type": "code",
   "execution_count": 5,
   "id": "755ba269-f1c9-4419-89e3-443aadb5dded",
   "metadata": {},
   "outputs": [
    {
     "data": {
      "text/html": [
       "<div>\n",
       "<style scoped>\n",
       "    .dataframe tbody tr th:only-of-type {\n",
       "        vertical-align: middle;\n",
       "    }\n",
       "\n",
       "    .dataframe tbody tr th {\n",
       "        vertical-align: top;\n",
       "    }\n",
       "\n",
       "    .dataframe thead th {\n",
       "        text-align: right;\n",
       "    }\n",
       "</style>\n",
       "<table border=\"1\" class=\"dataframe\">\n",
       "  <thead>\n",
       "    <tr style=\"text-align: right;\">\n",
       "      <th></th>\n",
       "      <th>merchant</th>\n",
       "      <th>category</th>\n",
       "      <th>amt</th>\n",
       "      <th>gender</th>\n",
       "      <th>street</th>\n",
       "      <th>city</th>\n",
       "      <th>zip</th>\n",
       "      <th>city_pop</th>\n",
       "      <th>job</th>\n",
       "      <th>merch_lat</th>\n",
       "      <th>merch_long</th>\n",
       "      <th>hour</th>\n",
       "      <th>age</th>\n",
       "      <th>is_fraud</th>\n",
       "    </tr>\n",
       "  </thead>\n",
       "  <tbody>\n",
       "    <tr>\n",
       "      <th>0</th>\n",
       "      <td>1.519014</td>\n",
       "      <td>1.615782</td>\n",
       "      <td>-0.407826</td>\n",
       "      <td>-0.909206</td>\n",
       "      <td>-0.207491</td>\n",
       "      <td>-0.232599</td>\n",
       "      <td>-0.209999</td>\n",
       "      <td>-0.282589</td>\n",
       "      <td>-0.316898</td>\n",
       "      <td>-0.494354</td>\n",
       "      <td>0.593864</td>\n",
       "      <td>-1.878145</td>\n",
       "      <td>-0.872823</td>\n",
       "      <td>0</td>\n",
       "    </tr>\n",
       "    <tr>\n",
       "      <th>1</th>\n",
       "      <td>0.900957</td>\n",
       "      <td>1.548622</td>\n",
       "      <td>0.230039</td>\n",
       "      <td>-0.909206</td>\n",
       "      <td>-0.207491</td>\n",
       "      <td>-0.232599</td>\n",
       "      <td>-0.209999</td>\n",
       "      <td>-0.293670</td>\n",
       "      <td>-0.281569</td>\n",
       "      <td>2.078699</td>\n",
       "      <td>-2.030341</td>\n",
       "      <td>-1.878145</td>\n",
       "      <td>-0.314203</td>\n",
       "      <td>0</td>\n",
       "    </tr>\n",
       "    <tr>\n",
       "      <th>2</th>\n",
       "      <td>-0.667123</td>\n",
       "      <td>-0.616973</td>\n",
       "      <td>0.934149</td>\n",
       "      <td>1.099861</td>\n",
       "      <td>-0.207491</td>\n",
       "      <td>-0.232599</td>\n",
       "      <td>-0.209999</td>\n",
       "      <td>-0.280406</td>\n",
       "      <td>0.744516</td>\n",
       "      <td>0.902849</td>\n",
       "      <td>-1.592323</td>\n",
       "      <td>-1.878145</td>\n",
       "      <td>0.629736</td>\n",
       "      <td>0</td>\n",
       "    </tr>\n",
       "    <tr>\n",
       "      <th>3</th>\n",
       "      <td>-0.426116</td>\n",
       "      <td>-0.204031</td>\n",
       "      <td>-0.158132</td>\n",
       "      <td>1.099861</td>\n",
       "      <td>1.005067</td>\n",
       "      <td>1.135357</td>\n",
       "      <td>1.018859</td>\n",
       "      <td>-0.287742</td>\n",
       "      <td>0.155359</td>\n",
       "      <td>1.662886</td>\n",
       "      <td>-1.621848</td>\n",
       "      <td>-1.878145</td>\n",
       "      <td>0.343422</td>\n",
       "      <td>0</td>\n",
       "    </tr>\n",
       "    <tr>\n",
       "      <th>4</th>\n",
       "      <td>-0.367463</td>\n",
       "      <td>-0.493928</td>\n",
       "      <td>-0.177094</td>\n",
       "      <td>1.099861</td>\n",
       "      <td>-0.207491</td>\n",
       "      <td>-0.232599</td>\n",
       "      <td>-0.209999</td>\n",
       "      <td>-0.293835</td>\n",
       "      <td>-0.369541</td>\n",
       "      <td>0.026941</td>\n",
       "      <td>0.841909</td>\n",
       "      <td>-1.878145</td>\n",
       "      <td>-0.760752</td>\n",
       "      <td>0</td>\n",
       "    </tr>\n",
       "  </tbody>\n",
       "</table>\n",
       "</div>"
      ],
      "text/plain": [
       "   merchant  category       amt    gender    street      city       zip  \\\n",
       "0  1.519014  1.615782 -0.407826 -0.909206 -0.207491 -0.232599 -0.209999   \n",
       "1  0.900957  1.548622  0.230039 -0.909206 -0.207491 -0.232599 -0.209999   \n",
       "2 -0.667123 -0.616973  0.934149  1.099861 -0.207491 -0.232599 -0.209999   \n",
       "3 -0.426116 -0.204031 -0.158132  1.099861  1.005067  1.135357  1.018859   \n",
       "4 -0.367463 -0.493928 -0.177094  1.099861 -0.207491 -0.232599 -0.209999   \n",
       "\n",
       "   city_pop       job  merch_lat  merch_long      hour       age  is_fraud  \n",
       "0 -0.282589 -0.316898  -0.494354    0.593864 -1.878145 -0.872823         0  \n",
       "1 -0.293670 -0.281569   2.078699   -2.030341 -1.878145 -0.314203         0  \n",
       "2 -0.280406  0.744516   0.902849   -1.592323 -1.878145  0.629736         0  \n",
       "3 -0.287742  0.155359   1.662886   -1.621848 -1.878145  0.343422         0  \n",
       "4 -0.293835 -0.369541   0.026941    0.841909 -1.878145 -0.760752         0  "
      ]
     },
     "execution_count": 5,
     "metadata": {},
     "output_type": "execute_result"
    }
   ],
   "source": [
    "data = pd.read_csv('preprocessed.csv', index_col=0)\n",
    "data.head(5)"
   ]
  },
  {
   "cell_type": "markdown",
   "id": "21b65bf1-86c3-41da-bf5c-06b9b8b93697",
   "metadata": {
    "jp-MarkdownHeadingCollapsed": true
   },
   "source": [
    "## PCA Experiment for visualisation\n",
    "* <font size=4>There is only one cluster of points belonging to normal transaction. Though there are some overlapping points in that main cluster, there are some clusters of positive points which are significantly different from the main cluster. </font>\n",
    "* <font size=4>As the number of overlapping points are not visible from scatter plot a simple LR model is trained to understand the counts. As per the model there are ***6760 false negatives and only 746 true positives***, so the ***number of overlapping points is significantly high***</font>"
   ]
  },
  {
   "cell_type": "code",
   "execution_count": 7,
   "id": "5c3ba4c1-54c8-49fa-8eec-750631e31a21",
   "metadata": {},
   "outputs": [],
   "source": [
    "def reduce_pca(X, n_comp = 2):\n",
    "    pca = PCA(n_components=2)\n",
    "    pca.fit(X)\n",
    "    return pca.transform(X)"
   ]
  },
  {
   "cell_type": "code",
   "execution_count": 8,
   "id": "090d45f0-2090-4ec3-8208-7d1e5ed48510",
   "metadata": {},
   "outputs": [
    {
     "data": {
      "text/html": [
       "<div>\n",
       "<style scoped>\n",
       "    .dataframe tbody tr th:only-of-type {\n",
       "        vertical-align: middle;\n",
       "    }\n",
       "\n",
       "    .dataframe tbody tr th {\n",
       "        vertical-align: top;\n",
       "    }\n",
       "\n",
       "    .dataframe thead th {\n",
       "        text-align: right;\n",
       "    }\n",
       "</style>\n",
       "<table border=\"1\" class=\"dataframe\">\n",
       "  <thead>\n",
       "    <tr style=\"text-align: right;\">\n",
       "      <th></th>\n",
       "      <th>dim_0</th>\n",
       "      <th>dim_1</th>\n",
       "      <th>is_fraud</th>\n",
       "    </tr>\n",
       "  </thead>\n",
       "  <tbody>\n",
       "    <tr>\n",
       "      <th>0</th>\n",
       "      <td>-0.343949</td>\n",
       "      <td>2.713932</td>\n",
       "      <td>0.0</td>\n",
       "    </tr>\n",
       "    <tr>\n",
       "      <th>1</th>\n",
       "      <td>-0.296931</td>\n",
       "      <td>2.403526</td>\n",
       "      <td>0.0</td>\n",
       "    </tr>\n",
       "    <tr>\n",
       "      <th>2</th>\n",
       "      <td>0.013625</td>\n",
       "      <td>0.098639</td>\n",
       "      <td>0.0</td>\n",
       "    </tr>\n",
       "    <tr>\n",
       "      <th>3</th>\n",
       "      <td>1.775099</td>\n",
       "      <td>0.251521</td>\n",
       "      <td>0.0</td>\n",
       "    </tr>\n",
       "    <tr>\n",
       "      <th>4</th>\n",
       "      <td>-0.496179</td>\n",
       "      <td>0.197247</td>\n",
       "      <td>0.0</td>\n",
       "    </tr>\n",
       "  </tbody>\n",
       "</table>\n",
       "</div>"
      ],
      "text/plain": [
       "      dim_0     dim_1  is_fraud\n",
       "0 -0.343949  2.713932       0.0\n",
       "1 -0.296931  2.403526       0.0\n",
       "2  0.013625  0.098639       0.0\n",
       "3  1.775099  0.251521       0.0\n",
       "4 -0.496179  0.197247       0.0"
      ]
     },
     "execution_count": 8,
     "metadata": {},
     "output_type": "execute_result"
    }
   ],
   "source": [
    "X = data.drop(columns=['is_fraud'], inplace=False)\n",
    "X_reduced = reduce_pca(X)\n",
    "y = (data['is_fraud'].values).reshape((-1,1))\n",
    "data_pca = np.hstack((X_reduced, y))\n",
    "data_pca = pd.DataFrame(data_pca, columns=['dim_0', 'dim_1', 'is_fraud'])\n",
    "data_pca.head(5)"
   ]
  },
  {
   "cell_type": "code",
   "execution_count": 9,
   "id": "0cb65350-bb4f-4bc7-a57b-dce54090cd83",
   "metadata": {},
   "outputs": [
    {
     "data": {
      "text/plain": [
       "<Axes: xlabel='dim_0', ylabel='dim_1'>"
      ]
     },
     "execution_count": 9,
     "metadata": {},
     "output_type": "execute_result"
    },
    {
     "data": {
      "image/png": "[encoded data removed]",
      "text/plain": [
       "<Figure size 640x480 with 1 Axes>"
      ]
     },
     "metadata": {},
     "output_type": "display_data"
    }
   ],
   "source": [
    "sns.scatterplot(data_pca, x='dim_0', y='dim_1', hue='is_fraud')"
   ]
  },
  {
   "cell_type": "markdown",
   "id": "2f4c5e09-d590-4cc2-a283-bb49cf3cdd14",
   "metadata": {},
   "source": [
    "### Logistic regression on 2D data"
   ]
  },
  {
   "cell_type": "code",
   "execution_count": 30,
   "id": "7b2ed090-d522-4c1e-97c2-e0df020f391f",
   "metadata": {},
   "outputs": [
    {
     "name": "stdout",
     "output_type": "stream",
     "text": [
      "[[1289088      81]\n",
      " [   6760     746]]\n"
     ]
    }
   ],
   "source": [
    "lr = LogisticRegression(C=100)\n",
    "lr.fit(X_reduced, y.ravel())\n",
    "y_pred = lr.predict(X_reduced)\n",
    "cm = confusion_matrix(y.ravel(), y_pred)\n",
    "print(cm)"
   ]
  },
  {
   "cell_type": "code",
   "execution_count": null,
   "id": "2cf3c58d-f859-4a6d-9b4d-f77c22719af2",
   "metadata": {},
   "outputs": [],
   "source": []
  }
 ],
 "metadata": {
  "kernelspec": {
   "display_name": "Python 3 (ipykernel)",
   "language": "python",
   "name": "python3"
  },
  "language_info": {
   "codemirror_mode": {
    "name": "ipython",
    "version": 3
   },
   "file_extension": ".py",
   "mimetype": "text/x-python",
   "name": "python",
   "nbconvert_exporter": "python",
   "pygments_lexer": "ipython3",
   "version": "3.12.4"
  }
 },
 "nbformat": 4,
 "nbformat_minor": 5
}
