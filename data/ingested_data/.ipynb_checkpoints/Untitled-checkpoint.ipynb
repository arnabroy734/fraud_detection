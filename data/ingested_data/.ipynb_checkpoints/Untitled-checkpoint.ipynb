{
 "cells": [
  {
   "cell_type": "code",
   "execution_count": 2,
   "id": "05c2a773-7248-42a6-8075-2d3892fd1f66",
   "metadata": {},
   "outputs": [],
   "source": [
    "import pandas as pd"
   ]
  },
  {
   "cell_type": "code",
   "execution_count": 8,
   "id": "555e1c2d-71b0-4bbd-809b-cd7956d85386",
   "metadata": {},
   "outputs": [],
   "source": [
    "data = pd.read_csv('ingested.csv', index_col=0)"
   ]
  },
  {
   "cell_type": "code",
   "execution_count": null,
   "id": "43b333b8-cfef-421a-a59b-e9a442ec3f57",
   "metadata": {},
   "outputs": [],
   "source": [
    "trans_nums = ['9b6e737aa346b4ae6aa3c9591478c396', \n",
    "              'ea020c9d55a71dd4abd72bd74abd27a4', \n",
    "              '9b6e737aa346b4ae6aa3c9591478c396', \n",
    "              '1ee05390a1319685bc2839f61ace1684', \n",
    "              '7bd2173c927f2df10a800991cce11f89',\n",
    "              'ab0a35d806877d22d47f1425309588d9', \n",
    "              '8e89eeb027e85087bd8a4c8df952b7ab', \n",
    "              '43848e577403e4e53d62c87984aab02b']"
   ]
  },
  {
   "cell_type": "code",
   "execution_count": 12,
   "id": "e570ed42-c4f1-4df5-9dcc-73aafc2e9b33",
   "metadata": {},
   "outputs": [
    {
     "data": {
      "text/plain": [
       "1282490    1\n",
       "Name: is_fraud, dtype: int64"
      ]
     },
     "execution_count": 12,
     "metadata": {},
     "output_type": "execute_result"
    }
   ],
   "source": [
    "data[data['trans_num']==\"9b6e737aa346b4ae6aa3c9591478c396\"]['is_fraud']"
   ]
  },
  {
   "cell_type": "code",
   "execution_count": null,
   "id": "8a904113-2fd7-407b-8bc7-7771987276ce",
   "metadata": {},
   "outputs": [],
   "source": []
  }
 ],
 "metadata": {
  "kernelspec": {
   "display_name": "Python [conda env:base] *",
   "language": "python",
   "name": "conda-base-py"
  },
  "language_info": {
   "codemirror_mode": {
    "name": "ipython",
    "version": 3
   },
   "file_extension": ".py",
   "mimetype": "text/x-python",
   "name": "python",
   "nbconvert_exporter": "python",
   "pygments_lexer": "ipython3",
   "version": "3.12.7"
  }
 },
 "nbformat": 4,
 "nbformat_minor": 5
}
